{
 "cells": [
  {
   "attachments": {},
   "cell_type": "markdown",
   "metadata": {},
   "source": [
    "# **Find Symplectic Matroids**"
   ]
  },
  {
   "attachments": {},
   "cell_type": "markdown",
   "metadata": {},
   "source": [
    "## **Preliminary**"
   ]
  },
  {
   "cell_type": "code",
   "execution_count": 1,
   "metadata": {},
   "outputs": [],
   "source": [
    "import numpy as np\n",
    "import random\n",
    "\n",
    "import symplectic_matroids"
   ]
  },
  {
   "attachments": {},
   "cell_type": "markdown",
   "metadata": {},
   "source": [
    "#### ***ground set***\n",
    "$J = \\{1,\\ \\cdots\\ n\\} \\cup \\{-1,\\ \\cdots\\ -n\\}$"
   ]
  },
  {
   "cell_type": "code",
   "execution_count": 2,
   "metadata": {},
   "outputs": [
    {
     "name": "stdout",
     "output_type": "stream",
     "text": [
      "[[1, 2], [-2, 1], [-1, 2], [-2, -1], [1, 3], [-3, 1], [-1, 3], [-3, -1], [2, 3], [-3, 2], [-2, 3], [-3, -2]]\n"
     ]
    }
   ],
   "source": [
    "n = 3\n",
    "k = 2\n",
    "Jk = symplectic_matroids.make_admissible_subsets(n,k)\n",
    "print(Jk)"
   ]
  },
  {
   "attachments": {},
   "cell_type": "markdown",
   "metadata": {},
   "source": [
    "**Remark** : on the ground set, \n",
    "\n",
    "$$-n < \\cdots < -2 < -1 < 1 < 2 < \\cdots < n$$\n",
    "\n",
    "holds."
   ]
  },
  {
   "attachments": {},
   "cell_type": "markdown",
   "metadata": {},
   "source": [
    "### ***admissible subsets***"
   ]
  },
  {
   "attachments": {},
   "cell_type": "markdown",
   "metadata": {},
   "source": [
    "**Definition** : *admissible subset*\n",
    "\n",
    "$X = \\{x_1, x_2, \\cdots x_k\\} \\subset J$ is admissilesubsets if and only if \n",
    "$$\\{x_1, _2, \\cdots x_k\\} \\cap \\{-x_1, -x_2, \\cdots -x_k\\} = \\emptyset$$\n",
    "holds."
   ]
  },
  {
   "attachments": {},
   "cell_type": "markdown",
   "metadata": {},
   "source": [
    "$J_k$ : a family of admissible subset of $J = \\{1, 2, \\cdots n\\}$"
   ]
  },
  {
   "cell_type": "code",
   "execution_count": 3,
   "metadata": {},
   "outputs": [
    {
     "name": "stdout",
     "output_type": "stream",
     "text": [
      "params\n",
      "n = 3, k = 2\n",
      "ground set\n",
      "[-3, -2, -1, 1, 2, 3]\n",
      "a family of admissible subset\n",
      "[1, 2] [-2, 1] [-1, 2] [-2, -1] [1, 3] [-3, 1] [-1, 3] [-3, -1] [2, 3] [-3, 2] [-2, 3] [-3, -2]\n"
     ]
    }
   ],
   "source": [
    "n = 3\n",
    "k = 2\n",
    "\n",
    "J = symplectic_matroids.make_ground_set(n)\n",
    "Jk = symplectic_matroids.make_admissible_subsets(n,k)\n",
    "\n",
    "print(\"params\")\n",
    "print(\"n = \" + str(n) + \", k = \" + str(k))\n",
    "print(\"ground set\")\n",
    "print(J)\n",
    "print(\"a family of admissible subset\")\n",
    "print(*Jk)"
   ]
  },
  {
   "attachments": {},
   "cell_type": "markdown",
   "metadata": {},
   "source": [
    "### ***admissible permutations***"
   ]
  },
  {
   "attachments": {},
   "cell_type": "markdown",
   "metadata": {},
   "source": [
    "**Definition**: *admissible permutation*\n",
    "\n",
    "The permutation $w:J \\to J$ is admissible permutation if and only if\n",
    "$$\\forall x \\in J,\\ w(-x) = -w(x)$$\n",
    "holds"
   ]
  },
  {
   "attachments": {},
   "cell_type": "markdown",
   "metadata": {},
   "source": [
    "$W$ : a set of admissible permutation on $J$"
   ]
  },
  {
   "cell_type": "code",
   "execution_count": 4,
   "metadata": {},
   "outputs": [
    {
     "name": "stdout",
     "output_type": "stream",
     "text": [
      "the number of admissible permutation\n",
      "48\n",
      "the example of admissible permutation\n",
      "(-3, -2, -1, 1, 2, 3)\n",
      "(1, -2, 3, -3, 2, -1)\n"
     ]
    }
   ],
   "source": [
    "n = 3\n",
    "W = symplectic_matroids.make_admissible_permutations(n)\n",
    "randomint = random.randrange(len(W))\n",
    "\n",
    "print(\"the number of admissible permutation\")\n",
    "print(len(W))\n",
    "print(\"the example of admissible permutation\")\n",
    "print(W[0])\n",
    "print(W[randomint])"
   ]
  },
  {
   "attachments": {},
   "cell_type": "markdown",
   "metadata": {},
   "source": [
    "### **admissible ordering**"
   ]
  },
  {
   "attachments": {},
   "cell_type": "markdown",
   "metadata": {},
   "source": [
    "**Definition** : *admissible ordering*\n",
    "An ordering made from admissible permutation is admissible ordering. In other words, \n",
    "\n",
    "we set $w \\in W$, admissible orderings $\\leq^{w}$ satisfy\n",
    "\n",
    "$x \\leq^{w} y \\Leftrightarrow w(x)^{-1} \\leq w(y)^{-1}$.\n"
   ]
  },
  {
   "attachments": {},
   "cell_type": "markdown",
   "metadata": {},
   "source": [
    "**Remark** : we use $\\prec$ instead of $\\leq^{w}$"
   ]
  },
  {
   "cell_type": "code",
   "execution_count": 5,
   "metadata": {},
   "outputs": [
    {
     "name": "stdout",
     "output_type": "stream",
     "text": [
      "an admissible permutation\n",
      "(-3, -2, -1, 1, 2, 3)\n",
      "(2, 1, -3, 3, -1, -2)\n",
      "an admissible ordering\n",
      "{2: -3, 1: -2, -3: -1, 3: 1, -1: 2, -2: 3}\n"
     ]
    }
   ],
   "source": [
    "randomint = random.randrange(len(W))\n",
    "w = W[randomint]\n",
    "\n",
    "w_order = symplectic_matroids.make_admissible_ordering(w)\n",
    "\n",
    "print(\"an admissible permutation\")\n",
    "print(W[0])\n",
    "print(w)\n",
    "print(\"an admissible ordering\")\n",
    "print(w_order)"
   ]
  },
  {
   "attachments": {},
   "cell_type": "markdown",
   "metadata": {},
   "source": [
    "#### (sort with an admissible ordering)"
   ]
  },
  {
   "cell_type": "code",
   "execution_count": 6,
   "metadata": {},
   "outputs": [
    {
     "name": "stdout",
     "output_type": "stream",
     "text": [
      "[1, -1, -2, 3, 2, 1, -3]\n",
      "sorted by the admissible orderings from\n",
      "(-3, -2, -1, 1, 2, 3)\n",
      "(2, 1, -3, 3, -1, -2)\n",
      "sorted array\n",
      "[2, 1, 1, -3, 3, -1, -2]\n"
     ]
    }
   ],
   "source": [
    "array = [1,-1,-2,3,2,1, -3]\n",
    "\n",
    "print(array)\n",
    "print(\"sorted by the admissible orderings from\")\n",
    "print(W[0])\n",
    "print(w)\n",
    "print(\"sorted array\")\n",
    "print(sorted(array, key = lambda x:w_order[x]))"
   ]
  },
  {
   "attachments": {},
   "cell_type": "markdown",
   "metadata": {},
   "source": [
    "### ***symplectic matroids***"
   ]
  },
  {
   "attachments": {},
   "cell_type": "markdown",
   "metadata": {},
   "source": [
    "Groundset : $J$\n",
    "\n",
    "Base : $\\mathcal{B} \\subset J_k$\n",
    "\n",
    "**Definition** : ***symplectic matroids***\n",
    "\n",
    "the triple $(J,\\ -,\\ \\mathcal{B})$ is symplectic matroids if and only $\\forall \\prec\\ \\in W$, there exists optimal set. i.e. $\\exist O \\in \\mathcal{B}$ such that\n",
    "$$ \\forall B \\in \\mathcal{B},\\ B \\prec O.$$"
   ]
  },
  {
   "attachments": {},
   "cell_type": "markdown",
   "metadata": {},
   "source": [
    "Remark : $B \\prec O$ means\n",
    "$$B = \\{b_1 \\prec \\cdots\\ \\prec b_k\\},\\ O = \\{o_1 \\prec \\cdots \\prec o_k\\}$$\n",
    "$$b_1 \\prec o_1$$\n",
    "$$b_2 \\prec b_2$$\n",
    "$$\\vdots$$\n",
    "$$b_n \\prec o_k$$\n",
    "holds."
   ]
  },
  {
   "attachments": {},
   "cell_type": "markdown",
   "metadata": {},
   "source": [
    "## **Construction of Symplectic Matroids**"
   ]
  },
  {
   "cell_type": "code",
   "execution_count": 19,
   "metadata": {},
   "outputs": [],
   "source": [
    "# the number of elements of bases\n",
    "n_elements = 4\n",
    "\n",
    "# all of the bases of the symplectic matroids\n",
    "bases = symplectic_matroids.make_base(n, k, n_elements)"
   ]
  },
  {
   "cell_type": "code",
   "execution_count": 23,
   "metadata": {},
   "outputs": [
    {
     "name": "stdout",
     "output_type": "stream",
     "text": [
      "the number of symplectic matroids with 4 elements\n",
      "130\n",
      "example of bases\n",
      "[[-1, 3], [-3, -1], [2, 3], [-3, 2]]\n"
     ]
    }
   ],
   "source": [
    "randomint = random.randrange(len(bases))\n",
    "\n",
    "print(\"the number of symplectic matroids with \"+ str(n_elements) + \" elements\")\n",
    "print(len(bases))\n",
    "print(\"example of bases\")\n",
    "print(bases[randomint])"
   ]
  },
  {
   "attachments": {},
   "cell_type": "markdown",
   "metadata": {},
   "source": [
    "## **Representable Symplectic Matroids**"
   ]
  },
  {
   "cell_type": "code",
   "execution_count": 13,
   "metadata": {},
   "outputs": [
    {
     "data": {
      "text/plain": [
       "<module 'symplectic_matroids' from '/home/buchi1002/work/lab/SymplecticMatroids/symplectic_matroids.py'>"
      ]
     },
     "execution_count": 13,
     "metadata": {},
     "output_type": "execute_result"
    }
   ],
   "source": [
    "import importlib\n",
    "import numpy as np\n",
    "from sympy import *\n",
    "\n",
    "import symplectic_matroids\n",
    "importlib.reload(symplectic_matroids)"
   ]
  },
  {
   "attachments": {},
   "cell_type": "markdown",
   "metadata": {},
   "source": [
    "**Theorem** : *representable symplectic matroids*\n",
    "\n",
    "We assume $A = (\\bm{a}_1\\ \\cdots\\ \\bm{a}_n), B = (\\bm{b}_1\\ \\cdots\\ \\bm{b}_n) \\in \\mathbb{F}_{q}^{k \\times n},\\ \\text{rank}(A \\mid B) = k,\\ AB^T = BA^T$, \n",
    "\n",
    "$i \\in \\{1, \\cdots, n\\}$ column index $i$ means $\\bm{a}_i$ $-i$ means $\\bm{b}_i$.\n",
    "\n",
    "We define $\\mathcal{B} = \\{B \\in J_k \\mid \\forall X \\in J_k,\\ \\text{det}(A \\mid B)[X] \\neq 0\\}$, then $(J,\\ -,\\ \\mathcal{B})$ is symplectic matroids."
   ]
  },
  {
   "attachments": {},
   "cell_type": "markdown",
   "metadata": {},
   "source": [
    "**Remark** : $(A \\mid B)[X]$ means the restriction of $(A \\mid B)$ by $X$ column. \n",
    "\n",
    "eg ) $X = \\{1, 5, -2\\}$, then $(A \\mid B)[X] = (\\bm{a}_1, \\bm{a}_5, \\bm{b}_2)$"
   ]
  },
  {
   "attachments": {},
   "cell_type": "markdown",
   "metadata": {},
   "source": [
    "**Remark** : the symplectic matroids is called ***representable_symplectic_matroids***"
   ]
  },
  {
   "attachments": {},
   "cell_type": "markdown",
   "metadata": {},
   "source": [
    "**Remark** : the row space of $(A \\mid B)$ (satisfing avove condition) is called ***isotropic subspace***"
   ]
  },
  {
   "cell_type": "code",
   "execution_count": 14,
   "metadata": {},
   "outputs": [],
   "source": [
    "q = 3\n",
    "n = 3\n",
    "k = 4\n",
    "\n",
    "S = symplectic_matroids.make_isotropic_subspace(q,n,k, limit = 10000)"
   ]
  },
  {
   "cell_type": "code",
   "execution_count": 15,
   "metadata": {},
   "outputs": [
    {
     "name": "stdout",
     "output_type": "stream",
     "text": [
      "the number of S\n",
      "10000\n"
     ]
    }
   ],
   "source": [
    "print(\"the number of S\")\n",
    "print(len(S))"
   ]
  },
  {
   "cell_type": "code",
   "execution_count": 16,
   "metadata": {},
   "outputs": [
    {
     "name": "stdout",
     "output_type": "stream",
     "text": [
      "A\n",
      "[[0 0 0]\n",
      " [0 0 0]\n",
      " [0 0 0]\n",
      " [0 0 0]]\n",
      "B\n",
      "[[0 0 0]\n",
      " [0 0 0]\n",
      " [0 0 0]\n",
      " [0 2 0]]\n",
      "ABt\n",
      "[[0 0 0 0]\n",
      " [0 0 0 0]\n",
      " [0 0 0 0]\n",
      " [0 0 0 0]]\n"
     ]
    }
   ],
   "source": [
    "print(\"A\")\n",
    "print(S[5][0])\n",
    "\n",
    "print(\"B\")\n",
    "print(S[5][1])\n",
    "\n",
    "print(\"ABt\")\n",
    "print(S[5][0]@S[5][1].T%q)"
   ]
  },
  {
   "attachments": {},
   "cell_type": "markdown",
   "metadata": {},
   "source": [
    "**Lemma** : ***trivial representation***\n",
    "\n",
    "We assume $\\text{rank}A = k$ and $D \\in \\mathbb{F}^{n \\times n}$ is diagonal matrix. if $B = AD$, $(A \\mid B)$ is representation of symplectic matroids."
   ]
  },
  {
   "attachments": {},
   "cell_type": "markdown",
   "metadata": {},
   "source": [
    "**Proof** : \n",
    "\n",
    "$A(AD)^T = A(D^TA^T) = (AD)A^T$"
   ]
  }
 ],
 "metadata": {
  "kernelspec": {
   "display_name": "base",
   "language": "python",
   "name": "python3"
  },
  "language_info": {
   "codemirror_mode": {
    "name": "ipython",
    "version": 3
   },
   "file_extension": ".py",
   "mimetype": "text/x-python",
   "name": "python",
   "nbconvert_exporter": "python",
   "pygments_lexer": "ipython3",
   "version": "3.9.13"
  },
  "orig_nbformat": 4,
  "vscode": {
   "interpreter": {
    "hash": "5b68179ba1bf5384a3d78074bf3fce60fb4d77c0858fe6070cc61492104c1b11"
   }
  }
 },
 "nbformat": 4,
 "nbformat_minor": 2
}
