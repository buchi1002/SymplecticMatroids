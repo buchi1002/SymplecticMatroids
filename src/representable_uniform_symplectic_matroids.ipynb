{
 "cells": [
  {
   "attachments": {},
   "cell_type": "markdown",
   "metadata": {},
   "source": [
    "# **Uniform Symplectic Matroids**"
   ]
  },
  {
   "attachments": {},
   "cell_type": "markdown",
   "metadata": {},
   "source": [
    "**Theorem** : ***uniform symplectic matroids***\n",
    "\n",
    "$(J, -, J_k)$ is symplectic matroids."
   ]
  },
  {
   "attachments": {},
   "cell_type": "markdown",
   "metadata": {},
   "source": [
    "**Remark** : For detail, please see my graduation thesis."
   ]
  },
  {
   "attachments": {},
   "cell_type": "markdown",
   "metadata": {},
   "source": [
    "We remember the lemma, "
   ]
  },
  {
   "attachments": {},
   "cell_type": "markdown",
   "metadata": {},
   "source": [
    "**Lemma** : ***trivial representation***\n",
    "\n",
    "We assume $\\text{rank}A = k$ and $D \\in \\mathbb{F}^{n \\times n}$ is diagonal matrix. Then, $(A \\mid AD)$ is representation of symplectic matroids."
   ]
  },
  {
   "attachments": {},
   "cell_type": "markdown",
   "metadata": {},
   "source": [
    "then, we get the next theorem."
   ]
  },
  {
   "attachments": {},
   "cell_type": "markdown",
   "metadata": {},
   "source": [
    "**Theorem** : ***representability of uniform symplectic matroids***\n",
    "\n",
    "On the field $\\mathbb{F}$, uniform symplectic matroids $(J, -, J_k)$ is representable if and only if uniform matroids $U_{k, n}$ is representable."
   ]
  },
  {
   "attachments": {},
   "cell_type": "markdown",
   "metadata": {},
   "source": [
    "For detail proof, please see my graduation thesis. \n",
    "\n",
    "Concicely speaking, we set $A$ is representation of uniform matroid. i.e. for all k-row vectors of $A$ is linearly independent. then $(A \\mid AD)$ represent uniform symplectic matroids. Then we got *trivial* representable uniform symplectic matroids."
   ]
  },
  {
   "attachments": {},
   "cell_type": "markdown",
   "metadata": {},
   "source": [
    "However there may be *non trivial* representation of uniform symplectic matroids. Let's get non trivial representation."
   ]
  },
  {
   "attachments": {},
   "cell_type": "markdown",
   "metadata": {},
   "source": [
    "We notice the next corollary."
   ]
  },
  {
   "attachments": {},
   "cell_type": "markdown",
   "metadata": {},
   "source": [
    "**corollary** : \n",
    "\n",
    "If uniform symplectic matroids is represented by $(A \\mid B)$, $A,\\ B$ is representation of uniform matroids."
   ]
  },
  {
   "attachments": {},
   "cell_type": "markdown",
   "metadata": {},
   "source": [
    "firstly, we will find all of representation of $U_{k, n}$"
   ]
  },
  {
   "attachments": {},
   "cell_type": "markdown",
   "metadata": {},
   "source": [
    "**Proof**:\n",
    "\n",
    "All of $k$-subsets of $A,\\ B$ are included in all of admissible subset of $(A \\mid B)$"
   ]
  },
  {
   "cell_type": "code",
   "execution_count": 15,
   "metadata": {},
   "outputs": [],
   "source": [
    "import numpy as np\n",
    "import itertools\n",
    "import random\n",
    "\n",
    "import symplectic_matroids\n",
    "\n",
    "# F_q\n",
    "q = 5 \n",
    "\n",
    "# J = [n]\n",
    "n = 4 \n",
    "\n",
    "# size of basis\n",
    "k = 2 "
   ]
  },
  {
   "attachments": {},
   "cell_type": "markdown",
   "metadata": {},
   "source": [
    "determinant algorithm return precise value"
   ]
  },
  {
   "cell_type": "code",
   "execution_count": 16,
   "metadata": {},
   "outputs": [],
   "source": [
    "def det(M):\n",
    "    M = [row[:] for row in M] # make a copy to keep original M unmodified\n",
    "    N, sign, prev = len(M), 1, 1\n",
    "    for i in range(N-1):\n",
    "        if M[i][i] == 0: # swap with another row having nonzero i's elem\n",
    "            swapto = next( (j for j in range(i+1,N) if M[j][i] != 0), None )\n",
    "            if swapto is None:\n",
    "                return 0 # all M[*][i] are zero => zero determinant\n",
    "            M[i], M[swapto], sign = M[swapto], M[i], -sign\n",
    "        for j in range(i+1,N):\n",
    "            for k in range(i+1,N):\n",
    "                assert ( M[j][k] * M[i][i] - M[j][i] * M[i][k] ) % prev == 0\n",
    "                M[j][k] = ( M[j][k] * M[i][i] - M[j][i] * M[i][k] ) // prev\n",
    "        prev = M[i][i]\n",
    "    return sign * M[-1][-1]\n",
    "\n",
    "## reference : (https://stackoverflow.com/questions/66192894/precise-determinant-of-integer-nxn-matrix)"
   ]
  },
  {
   "attachments": {},
   "cell_type": "markdown",
   "metadata": {},
   "source": [
    "### all of deteminant of $k \\times k$ matrix"
   ]
  },
  {
   "attachments": {},
   "cell_type": "markdown",
   "metadata": {},
   "source": [
    "For reducing computing complexity, we concider set of corresponding index instead of matrix.\n",
    "\n",
    "We define \n",
    "\n",
    "d_det : (index_1, index_2, $\\cdots$ index_k) $\\mapsto$ det(row_1 row_2 $\\cdots$ row_k)"
   ]
  },
  {
   "attachments": {},
   "cell_type": "markdown",
   "metadata": {},
   "source": [
    "For example, on $F = \\mathbb{F}_2$\n",
    "\n",
    "$(list)\\ F_3 = \n",
    "\\begin{bmatrix}\n",
    "  \\begin{bmatrix}\n",
    "  0\\\\\n",
    "  0\\\\\n",
    "  0\n",
    "  \\end{bmatrix}\n",
    "  \\begin{bmatrix}\n",
    "  1\\\\\n",
    "  0\\\\\n",
    "  0\n",
    "  \\end{bmatrix}\n",
    "  \\begin{bmatrix}\n",
    "  0\\\\\n",
    "  1\\\\\n",
    "  0\n",
    "  \\end{bmatrix}\n",
    "  \\begin{bmatrix}\n",
    "  1\\\\\n",
    "  1\\\\\n",
    "  0\n",
    "  \\end{bmatrix}\n",
    "  \\begin{bmatrix}\n",
    "  0\\\\\n",
    "  0\\\\\n",
    "  1\n",
    "  \\end{bmatrix}\n",
    "  \\begin{bmatrix}\n",
    "  1\\\\\n",
    "  0\\\\\n",
    "  1\n",
    "  \\end{bmatrix}\n",
    "  \\begin{bmatrix}\n",
    "  0\\\\\n",
    "  1\\\\\n",
    "  1\n",
    "  \\end{bmatrix}\n",
    "  \\begin{bmatrix}\n",
    "  1\\\\\n",
    "  1\\\\\n",
    "  1\n",
    "  \\end{bmatrix}\n",
    "\\end{bmatrix}\n",
    "$\n",
    "\n",
    "d_det( ( 2, 3, 5 ) ) = \n",
    "$\n",
    "\\begin{bmatrix}\n",
    "0 && 1 && 1\\\\\n",
    "1 && 1 && 0\\\\\n",
    "0 && 0 && 1\n",
    "\\end{bmatrix}\n",
    "$\n",
    "(0-indexed)"
   ]
  },
  {
   "cell_type": "code",
   "execution_count": 17,
   "metadata": {},
   "outputs": [],
   "source": [
    "Fk = list(itertools.product(range(q), repeat=k))\n",
    "Fk = np.array(list(map(lambda x:np.array(x), Fk)))\n",
    "\n",
    "d_det = dict()\n",
    "for t_idx in itertools.combinations_with_replacement(range(len(Fk)), k):\n",
    "    d_det[t_idx] = det(Fk[list(t_idx)])%q"
   ]
  },
  {
   "attachments": {},
   "cell_type": "markdown",
   "metadata": {},
   "source": [
    "### all of $U_{k, n}$"
   ]
  },
  {
   "cell_type": "code",
   "execution_count": 18,
   "metadata": {},
   "outputs": [],
   "source": [
    "# if k >= 1, the representation of Ukn don't have 0 vector. \n",
    "matrices = itertools.combinations_with_replacement(range(len(Fk[1:])),n)\n",
    "matrices = list(map(lambda x:np.array(x) , matrices))\n",
    "\n",
    "subset_indeces = tuple(itertools.combinations(range(n),k))\n",
    "\n",
    "# virtual matrices (only having Fk index number)\n",
    "v_U_kn = list()\n",
    "for matrix in matrices:\n",
    "    flag = True\n",
    "    for idx in subset_indeces:\n",
    "        if d_det[tuple(matrix[list(idx)])] == 0:\n",
    "            flag = False\n",
    "            break\n",
    "    if flag:\n",
    "        v_U_kn.append(matrix)"
   ]
  },
  {
   "cell_type": "code",
   "execution_count": 19,
   "metadata": {},
   "outputs": [
    {
     "name": "stdout",
     "output_type": "stream",
     "text": [
      "the number of representation of Ukn\n",
      "3200\n",
      "example\n",
      "[[0 3 3 4]\n",
      " [3 0 2 3]]\n"
     ]
    }
   ],
   "source": [
    "randint = random.randrange(len(v_U_kn))\n",
    "\n",
    "print(\"the number of representation of Ukn\")\n",
    "print(len(v_U_kn))\n",
    "print(\"example\")\n",
    "print(Fk[list(v_U_kn[randint])].T)"
   ]
  },
  {
   "attachments": {},
   "cell_type": "markdown",
   "metadata": {},
   "source": [
    "Nextly, we check $AB^T == BA^T$. This is because before theorem"
   ]
  },
  {
   "attachments": {},
   "cell_type": "markdown",
   "metadata": {},
   "source": [
    "**Theorem** : *representable symplectic matroids*\n",
    "\n",
    "We assume $A = (\\bm{a}_1\\ \\cdots\\ \\bm{a}_n), B = (\\bm{b}_1\\ \\cdots\\ \\bm{b}_n) \\in \\mathbb{F}_{q}^{k \\times n},\\ \\text{rank}(A \\mid B) = k,\\ AB^T = BA^T$, \n",
    "\n",
    "$i \\in \\{1, \\cdots, n\\}$ column index $i$ means $\\bm{a}_i$ index $-i$ means $\\bm{b}_i$.\n",
    "\n",
    "We define $\\mathcal{B} = \\{B \\in J_k \\mid \\forall X \\in J_k,\\ \\text{det}(A \\mid B)[X] \\neq 0\\}$, then $(J,\\ -,\\ \\mathcal{B})$ is symplectic matroids."
   ]
  },
  {
   "attachments": {},
   "cell_type": "markdown",
   "metadata": {},
   "source": [
    "### indeces to matrices"
   ]
  },
  {
   "attachments": {},
   "cell_type": "markdown",
   "metadata": {},
   "source": [
    "For calculating $AB^T == BA^T$."
   ]
  },
  {
   "cell_type": "code",
   "execution_count": 20,
   "metadata": {},
   "outputs": [],
   "source": [
    "U_kn = [np.array([np.array([0 for _ in range(k)]) for i in range(n)]) for j in range(len(v_U_kn))]\n",
    "\n",
    "for u in range(len(U_kn)):\n",
    "    for idx in range(n):\n",
    "        U_kn[u][idx] = Fk[v_U_kn[u][idx]]"
   ]
  },
  {
   "cell_type": "code",
   "execution_count": 21,
   "metadata": {},
   "outputs": [
    {
     "name": "stdout",
     "output_type": "stream",
     "text": [
      "3200\n",
      "[[0 3 3 4]\n",
      " [3 0 2 3]]\n"
     ]
    }
   ],
   "source": [
    "print(len(U_kn))\n",
    "print(U_kn[randint].T)"
   ]
  },
  {
   "attachments": {},
   "cell_type": "markdown",
   "metadata": {},
   "source": [
    "### check $AB^T =BA^T$"
   ]
  },
  {
   "cell_type": "code",
   "execution_count": 22,
   "metadata": {},
   "outputs": [],
   "source": [
    "candidate0 = list()\n",
    "for idxA, idxB in itertools.combinations(range(len(U_kn)), 2):\n",
    "    ABt = (U_kn[idxA].T@U_kn[idxB])%q\n",
    "    if np.array_equal(ABt, ABt.T):\n",
    "        candidate0.append((v_U_kn[idxA],v_U_kn[idxB]))"
   ]
  },
  {
   "cell_type": "code",
   "execution_count": 23,
   "metadata": {},
   "outputs": [
    {
     "name": "stdout",
     "output_type": "stream",
     "text": [
      "A\n",
      "[[0 2 4 4]\n",
      " [4 2 1 3]]\n",
      "B\n",
      "[[1 2 2 2]\n",
      " [1 0 1 3]]\n",
      "ABt\n",
      "[[0 1]\n",
      " [1 4]]\n",
      "1033917\n"
     ]
    }
   ],
   "source": [
    "randint = random.randrange(len(candidate0))\n",
    "\n",
    "print(\"A\")\n",
    "print(Fk[list(candidate0[randint][0])].T)\n",
    "\n",
    "print(\"B\")\n",
    "print(Fk[list(candidate0[randint][1])].T)\n",
    "\n",
    "print(\"ABt\")\n",
    "print(Fk[list(candidate0[randint][0])].T@Fk[list(candidate0[randint][1])]%q)\n",
    "\n",
    "print(len(candidate0))"
   ]
  },
  {
   "attachments": {},
   "cell_type": "markdown",
   "metadata": {},
   "source": [
    "### find non trivial representation"
   ]
  },
  {
   "cell_type": "code",
   "execution_count": 24,
   "metadata": {},
   "outputs": [],
   "source": [
    "non_trivial = list()\n",
    "for A, B in candidate0:\n",
    "    At = Fk[A]\n",
    "    Bt = Fk[B]\n",
    "\n",
    "    flag0 = False # there exists row_i and row_{-i} s.t. they are linearly independent.\n",
    "    for i in range(n):\n",
    "        flag1 = True # for all (scalar) k in F_q, a_i != k*b_i\n",
    "        for scalar in range(q):\n",
    "            if np.array_equal(At[i],scalar*Bt[i]%q):\n",
    "               flag1 = False\n",
    "               break\n",
    "\n",
    "        if flag1:\n",
    "            flag0 = True\n",
    "            break\n",
    "    \n",
    "    if flag0:\n",
    "        non_trivial.append((A,B))"
   ]
  },
  {
   "cell_type": "code",
   "execution_count": 25,
   "metadata": {},
   "outputs": [
    {
     "name": "stdout",
     "output_type": "stream",
     "text": [
      "A\n",
      "[[0 1 2 4]\n",
      " [3 0 4 1]]\n",
      "B\n",
      "[[0 1 1 4]\n",
      " [4 2 3 0]]\n",
      "ABt\n",
      "[[4 3]\n",
      " [3 4]]\n"
     ]
    }
   ],
   "source": [
    "randint = random.randrange(len(non_trivial))\n",
    "\n",
    "A, B = non_trivial[randint]\n",
    "print(\"A\")\n",
    "print(Fk[A].T)\n",
    "print(\"B\")\n",
    "print(Fk[B].T)\n",
    "print(\"ABt\")\n",
    "print(Fk[A].T@Fk[B]%q)"
   ]
  },
  {
   "cell_type": "code",
   "execution_count": 26,
   "metadata": {},
   "outputs": [
    {
     "name": "stdout",
     "output_type": "stream",
     "text": [
      "the number of found nontrivial representation\n",
      "984209\n",
      "the proportion of nontrivial\n",
      "0.9519226398250537\n"
     ]
    }
   ],
   "source": [
    "print(\"the number of found nontrivial representation\")\n",
    "print(len(non_trivial))\n",
    "print(\"the proportion of nontrivial\")\n",
    "print(len(non_trivial)/len(candidate0))"
   ]
  },
  {
   "attachments": {},
   "cell_type": "markdown",
   "metadata": {},
   "source": [
    "## **Conclusion**"
   ]
  },
  {
   "attachments": {},
   "cell_type": "markdown",
   "metadata": {},
   "source": [
    "There exists nontrivial representation of uniform symplectic matroids."
   ]
  },
  {
   "attachments": {},
   "cell_type": "markdown",
   "metadata": {},
   "source": [
    "The caluculated  the number of nontrivial representation is not precise because matrix swppped the row isn't concider in calculation. (for calculation complexity, we only used combination of row from Fk. Not permutation.) However, the proportion of nontrivial is so high. I think there may be another representation of uniform symplectic matroids. (For example, using *special* regular matrix $P$, $(A \\mid AP)$ )"
   ]
  }
 ],
 "metadata": {
  "kernelspec": {
   "display_name": "base",
   "language": "python",
   "name": "python3"
  },
  "language_info": {
   "codemirror_mode": {
    "name": "ipython",
    "version": 3
   },
   "file_extension": ".py",
   "mimetype": "text/x-python",
   "name": "python",
   "nbconvert_exporter": "python",
   "pygments_lexer": "ipython3",
   "version": "3.9.13"
  },
  "orig_nbformat": 4,
  "vscode": {
   "interpreter": {
    "hash": "5b68179ba1bf5384a3d78074bf3fce60fb4d77c0858fe6070cc61492104c1b11"
   }
  }
 },
 "nbformat": 4,
 "nbformat_minor": 2
}
